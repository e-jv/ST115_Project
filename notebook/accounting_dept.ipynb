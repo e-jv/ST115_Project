{
 "cells": [
  {
   "cell_type": "code",
   "execution_count": 125,
   "id": "d9bab22b",
   "metadata": {},
   "outputs": [],
   "source": [
    "from selenium import webdriver\n",
    "from selenium.webdriver.common.by import By\n",
    "from selenium.webdriver.support.ui import WebDriverWait\n",
    "from selenium.webdriver.support import expected_conditions as EC\n",
    "\n",
    "# Set up the web driver\n",
    "driver = webdriver.Chrome()\n",
    "driver.get(\"https://info.lse.ac.uk/Staff/Departments-and-Institutes\")\n",
    "\n",
    "# Find and click the department\n",
    "department = WebDriverWait(driver, 15).until(EC.element_to_be_clickable((By.LINK_TEXT, 'Department of Accounting')))\n",
    "driver.execute_script(\"arguments[0].scrollIntoView();\", department)\n",
    "department.click()\n",
    "\n",
    "# Find and click \"People\"\n",
    "people = WebDriverWait(driver, 15).until(EC.element_to_be_clickable((By.LINK_TEXT, 'People')))\n",
    "people.click()\n",
    "\n",
    "# Find and click \"Academic Faculty\"\n",
    "academic_faculty = WebDriverWait(driver, 15).until(EC.element_to_be_clickable((By.LINK_TEXT, 'Academic Faculty')))\n",
    "driver.execute_script(\"arguments[0].scrollIntoView();\", academic_faculty)\n",
    "academic_faculty.click()\n",
    "\n",
    "# Find and click to professor (will be looped after) \n",
    "# import beautiful soup and get all the specific header names and loop over those\n",
    "\n",
    "from bs4 import BeautifulSoup\n",
    "url = driver.current_url\n",
    "r = requests.get(url)\n",
    "soup = BeautifulSoup(r.content,'lxml')\n",
    "academic_faculty = soup.find(\"section\", attrs={'class': \"accordion\"})\n",
    "print(professors)\n",
    "\n",
    "# this doesn't work bc current url is https://www.lse.ac.uk/accounting/people, not the academic faculty\n",
    "\n",
    "\n",
    "professor = WebDriverWait(driver, 15).until(EC.element_to_be_clickable((By.LINK_TEXT, 'Dr Per Ahblom')))\n",
    "driver.execute_script(\"arguments[0].scrollIntoView();\", professor)\n",
    "professor.click()"
   ]
  },
  {
   "cell_type": "code",
   "execution_count": 127,
   "id": "e1f951d1",
   "metadata": {},
   "outputs": [
    {
     "name": "stdout",
     "output_type": "stream",
     "text": [
      "<class 'bs4.BeautifulSoup'>\n"
     ]
    }
   ],
   "source": [
    "url_2 = driver.current_url\n",
    "r_2 = requests.get(url_2)\n",
    "soup_2 = BeautifulSoup(r_2.content,'lxml')\n",
    "print(type(soup_2))"
   ]
  },
  {
   "cell_type": "code",
   "execution_count": 128,
   "id": "7f4e6fcd",
   "metadata": {},
   "outputs": [],
   "source": [
    "# Get professor prefix and name\n",
    "professor = soup_2.find(\"h1\", attrs={'class': 'people__name'})\n",
    "professor_prefix = professor.find('span', class_='people__title').text\n",
    "professor_name = professor.text.strip(\"Dr\")\n",
    "professor_name = professor.text.strip(\"Professor\")\n",
    "\n",
    "# Get the key expertise\n",
    "key_expertise_locate = soup_2.find('div', class_='peopleContact__method', text=\"Key Expertise\")\n",
    "key_expertise = key_expertise_locate.find_next_sibling('div').text\n",
    "\n",
    "# Get the languages\n",
    "languages_locate = soup_2.find('div', class_='peopleContact__method', text=\"Languages\")\n",
    "languages = languages_locate.find_next_sibling('div').text\n",
    "\n",
    "# Get professor title\n",
    "professor_title = soup_2.find('h2', class_='people__position').text\n",
    "\n",
    "# Get courses that the professor is teaching\n",
    "teaching = soup_2.find('p', text=\"Teaching\")\n",
    "module_list = teaching.find_next('ul')\n",
    "modules = [li.text for li in module_list.find_all('li')] # extract the items from the <li> elements\n",
    "modules = [module.replace('\\xa0', \" \").strip(\"\\n\") for module in modules]"
   ]
  },
  {
   "cell_type": "code",
   "execution_count": null,
   "id": "ec49bd1b",
   "metadata": {},
   "outputs": [],
   "source": []
  }
 ],
 "metadata": {
  "kernelspec": {
   "display_name": "Python 3 (ipykernel)",
   "language": "python",
   "name": "python3"
  },
  "language_info": {
   "codemirror_mode": {
    "name": "ipython",
    "version": 3
   },
   "file_extension": ".py",
   "mimetype": "text/x-python",
   "name": "python",
   "nbconvert_exporter": "python",
   "pygments_lexer": "ipython3",
   "version": "3.7.1"
  }
 },
 "nbformat": 4,
 "nbformat_minor": 5
}
